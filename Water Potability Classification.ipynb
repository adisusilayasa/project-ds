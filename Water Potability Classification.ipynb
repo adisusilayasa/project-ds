{
 "cells": [
  {
   "cell_type": "markdown",
   "id": "brown-proceeding",
   "metadata": {},
   "source": [
    "## Import Libraries"
   ]
  },
  {
   "cell_type": "code",
   "execution_count": 1,
   "id": "unexpected-resolution",
   "metadata": {},
   "outputs": [],
   "source": [
    "#Data\n",
    "import pandas as pd\n",
    "import numpy as np\n",
    "\n",
    "#Visualisasi\n",
    "import seaborn as sns\n",
    "import matplotlib.pyplot as plt\n",
    "\n",
    "#Label Encoder\n",
    "from sklearn import preprocessing\n",
    "\n",
    "#Model\n",
    "from sklearn.tree import DecisionTreeClassifier\n",
    "from sklearn.linear_model import LogisticRegression\n",
    "from sklearn.neighbors import KNeighborsClassifier\n",
    "from sklearn.naive_bayes import GaussianNB\n",
    "from sklearn.svm import SVC, LinearSVC\n",
    "from sklearn.ensemble import RandomForestClassifier , GradientBoostingClassifier\n",
    "from sklearn.ensemble import ExtraTreesClassifier\n",
    "from lightgbm import LGBMClassifier\n",
    "from xgboost import XGBClassifier\n",
    "\n",
    "#Metriks Evaluasi\n",
    "from sklearn import metrics\n",
    "from sklearn.metrics import classification_report, roc_auc_score, roc_curve\n",
    "from sklearn.metrics import make_scorer,accuracy_score,roc_auc_score,precision_score,recall_score,f1_score,log_loss\n",
    "from sklearn.metrics import confusion_matrix\n",
    "\n",
    "#Split data\n",
    "from sklearn.model_selection import train_test_split\n",
    "\n",
    "#Cross Validation\n",
    "from sklearn.model_selection import StratifiedKFold \n",
    "from sklearn.model_selection import RepeatedStratifiedKFold\n",
    "\n",
    "#Grid Search\n",
    "from sklearn.model_selection import GridSearchCV\n",
    "\n",
    "#SMOTE\n",
    "from imblearn.over_sampling import SMOTE\n"
   ]
  },
  {
   "cell_type": "markdown",
   "id": "committed-sharp",
   "metadata": {},
   "source": [
    "## Import Dataset"
   ]
  },
  {
   "cell_type": "code",
   "execution_count": 2,
   "id": "effective-cable",
   "metadata": {},
   "outputs": [
    {
     "data": {
      "text/html": [
       "<div>\n",
       "<style scoped>\n",
       "    .dataframe tbody tr th:only-of-type {\n",
       "        vertical-align: middle;\n",
       "    }\n",
       "\n",
       "    .dataframe tbody tr th {\n",
       "        vertical-align: top;\n",
       "    }\n",
       "\n",
       "    .dataframe thead th {\n",
       "        text-align: right;\n",
       "    }\n",
       "</style>\n",
       "<table border=\"1\" class=\"dataframe\">\n",
       "  <thead>\n",
       "    <tr style=\"text-align: right;\">\n",
       "      <th></th>\n",
       "      <th>ph</th>\n",
       "      <th>hard</th>\n",
       "      <th>solid</th>\n",
       "      <th>chloramines</th>\n",
       "      <th>sulfate</th>\n",
       "      <th>conduct</th>\n",
       "      <th>carbon</th>\n",
       "      <th>thm</th>\n",
       "      <th>turbidity</th>\n",
       "      <th>potability</th>\n",
       "    </tr>\n",
       "  </thead>\n",
       "  <tbody>\n",
       "    <tr>\n",
       "      <th>0</th>\n",
       "      <td>NaN</td>\n",
       "      <td>204.890455</td>\n",
       "      <td>20791.318981</td>\n",
       "      <td>7.300212</td>\n",
       "      <td>368.516441</td>\n",
       "      <td>564.308654</td>\n",
       "      <td>10.379783</td>\n",
       "      <td>86.990970</td>\n",
       "      <td>2.963135</td>\n",
       "      <td>0</td>\n",
       "    </tr>\n",
       "    <tr>\n",
       "      <th>1</th>\n",
       "      <td>3.716080</td>\n",
       "      <td>129.422921</td>\n",
       "      <td>18630.057858</td>\n",
       "      <td>6.635246</td>\n",
       "      <td>NaN</td>\n",
       "      <td>592.885359</td>\n",
       "      <td>15.180013</td>\n",
       "      <td>56.329076</td>\n",
       "      <td>4.500656</td>\n",
       "      <td>0</td>\n",
       "    </tr>\n",
       "    <tr>\n",
       "      <th>2</th>\n",
       "      <td>8.099124</td>\n",
       "      <td>224.236259</td>\n",
       "      <td>19909.541732</td>\n",
       "      <td>9.275884</td>\n",
       "      <td>NaN</td>\n",
       "      <td>418.606213</td>\n",
       "      <td>16.868637</td>\n",
       "      <td>66.420093</td>\n",
       "      <td>3.055934</td>\n",
       "      <td>0</td>\n",
       "    </tr>\n",
       "    <tr>\n",
       "      <th>3</th>\n",
       "      <td>8.316766</td>\n",
       "      <td>214.373394</td>\n",
       "      <td>22018.417441</td>\n",
       "      <td>8.059332</td>\n",
       "      <td>356.886136</td>\n",
       "      <td>363.266516</td>\n",
       "      <td>18.436524</td>\n",
       "      <td>100.341674</td>\n",
       "      <td>4.628771</td>\n",
       "      <td>0</td>\n",
       "    </tr>\n",
       "    <tr>\n",
       "      <th>4</th>\n",
       "      <td>9.092223</td>\n",
       "      <td>181.101509</td>\n",
       "      <td>17978.986339</td>\n",
       "      <td>6.546600</td>\n",
       "      <td>310.135738</td>\n",
       "      <td>398.410813</td>\n",
       "      <td>11.558279</td>\n",
       "      <td>31.997993</td>\n",
       "      <td>4.075075</td>\n",
       "      <td>0</td>\n",
       "    </tr>\n",
       "    <tr>\n",
       "      <th>...</th>\n",
       "      <td>...</td>\n",
       "      <td>...</td>\n",
       "      <td>...</td>\n",
       "      <td>...</td>\n",
       "      <td>...</td>\n",
       "      <td>...</td>\n",
       "      <td>...</td>\n",
       "      <td>...</td>\n",
       "      <td>...</td>\n",
       "      <td>...</td>\n",
       "    </tr>\n",
       "    <tr>\n",
       "      <th>3271</th>\n",
       "      <td>4.668102</td>\n",
       "      <td>193.681735</td>\n",
       "      <td>47580.991603</td>\n",
       "      <td>7.166639</td>\n",
       "      <td>359.948574</td>\n",
       "      <td>526.424171</td>\n",
       "      <td>13.894419</td>\n",
       "      <td>66.687695</td>\n",
       "      <td>4.435821</td>\n",
       "      <td>1</td>\n",
       "    </tr>\n",
       "    <tr>\n",
       "      <th>3272</th>\n",
       "      <td>7.808856</td>\n",
       "      <td>193.553212</td>\n",
       "      <td>17329.802160</td>\n",
       "      <td>8.061362</td>\n",
       "      <td>NaN</td>\n",
       "      <td>392.449580</td>\n",
       "      <td>19.903225</td>\n",
       "      <td>NaN</td>\n",
       "      <td>2.798243</td>\n",
       "      <td>1</td>\n",
       "    </tr>\n",
       "    <tr>\n",
       "      <th>3273</th>\n",
       "      <td>9.419510</td>\n",
       "      <td>175.762646</td>\n",
       "      <td>33155.578218</td>\n",
       "      <td>7.350233</td>\n",
       "      <td>NaN</td>\n",
       "      <td>432.044783</td>\n",
       "      <td>11.039070</td>\n",
       "      <td>69.845400</td>\n",
       "      <td>3.298875</td>\n",
       "      <td>1</td>\n",
       "    </tr>\n",
       "    <tr>\n",
       "      <th>3274</th>\n",
       "      <td>5.126763</td>\n",
       "      <td>230.603758</td>\n",
       "      <td>11983.869376</td>\n",
       "      <td>6.303357</td>\n",
       "      <td>NaN</td>\n",
       "      <td>402.883113</td>\n",
       "      <td>11.168946</td>\n",
       "      <td>77.488213</td>\n",
       "      <td>4.708658</td>\n",
       "      <td>1</td>\n",
       "    </tr>\n",
       "    <tr>\n",
       "      <th>3275</th>\n",
       "      <td>7.874671</td>\n",
       "      <td>195.102299</td>\n",
       "      <td>17404.177061</td>\n",
       "      <td>7.509306</td>\n",
       "      <td>NaN</td>\n",
       "      <td>327.459760</td>\n",
       "      <td>16.140368</td>\n",
       "      <td>78.698446</td>\n",
       "      <td>2.309149</td>\n",
       "      <td>1</td>\n",
       "    </tr>\n",
       "  </tbody>\n",
       "</table>\n",
       "<p>3276 rows × 10 columns</p>\n",
       "</div>"
      ],
      "text/plain": [
       "            ph        hard         solid  chloramines     sulfate     conduct  \\\n",
       "0          NaN  204.890455  20791.318981     7.300212  368.516441  564.308654   \n",
       "1     3.716080  129.422921  18630.057858     6.635246         NaN  592.885359   \n",
       "2     8.099124  224.236259  19909.541732     9.275884         NaN  418.606213   \n",
       "3     8.316766  214.373394  22018.417441     8.059332  356.886136  363.266516   \n",
       "4     9.092223  181.101509  17978.986339     6.546600  310.135738  398.410813   \n",
       "...        ...         ...           ...          ...         ...         ...   \n",
       "3271  4.668102  193.681735  47580.991603     7.166639  359.948574  526.424171   \n",
       "3272  7.808856  193.553212  17329.802160     8.061362         NaN  392.449580   \n",
       "3273  9.419510  175.762646  33155.578218     7.350233         NaN  432.044783   \n",
       "3274  5.126763  230.603758  11983.869376     6.303357         NaN  402.883113   \n",
       "3275  7.874671  195.102299  17404.177061     7.509306         NaN  327.459760   \n",
       "\n",
       "         carbon         thm  turbidity  potability  \n",
       "0     10.379783   86.990970   2.963135           0  \n",
       "1     15.180013   56.329076   4.500656           0  \n",
       "2     16.868637   66.420093   3.055934           0  \n",
       "3     18.436524  100.341674   4.628771           0  \n",
       "4     11.558279   31.997993   4.075075           0  \n",
       "...         ...         ...        ...         ...  \n",
       "3271  13.894419   66.687695   4.435821           1  \n",
       "3272  19.903225         NaN   2.798243           1  \n",
       "3273  11.039070   69.845400   3.298875           1  \n",
       "3274  11.168946   77.488213   4.708658           1  \n",
       "3275  16.140368   78.698446   2.309149           1  \n",
       "\n",
       "[3276 rows x 10 columns]"
      ]
     },
     "execution_count": 2,
     "metadata": {},
     "output_type": "execute_result"
    }
   ],
   "source": [
    "df = pd.read_csv('water_potability.csv')\n",
    "df=df.rename(columns={\"Organic_carbon\": \"carbon\",\"Hardness\":\"hard\",\"Chloramines\":\"chloramines\",\"Solids\":\"solid\",\"Sulfate\":\"sulfate\",\"Conductivity\":\"conduct\",\"Trihalomethanes\":\"thm\",\"Turbidity\":\"turbidity\",\"Potability\":\"potability\"})\n",
    "df"
   ]
  },
  {
   "cell_type": "markdown",
   "id": "correct-graham",
   "metadata": {},
   "source": [
    "## Info Dataset"
   ]
  },
  {
   "cell_type": "code",
   "execution_count": 3,
   "id": "governing-disposition",
   "metadata": {},
   "outputs": [
    {
     "data": {
      "text/plain": [
       "(3276, 10)"
      ]
     },
     "execution_count": 3,
     "metadata": {},
     "output_type": "execute_result"
    }
   ],
   "source": [
    "df.shape"
   ]
  },
  {
   "cell_type": "code",
   "execution_count": 4,
   "id": "medical-bachelor",
   "metadata": {},
   "outputs": [
    {
     "data": {
      "text/plain": [
       "ph             float64\n",
       "hard           float64\n",
       "solid          float64\n",
       "chloramines    float64\n",
       "sulfate        float64\n",
       "conduct        float64\n",
       "carbon         float64\n",
       "thm            float64\n",
       "turbidity      float64\n",
       "potability       int64\n",
       "dtype: object"
      ]
     },
     "execution_count": 4,
     "metadata": {},
     "output_type": "execute_result"
    }
   ],
   "source": [
    "df.dtypes"
   ]
  },
  {
   "cell_type": "code",
   "execution_count": 5,
   "id": "charitable-israeli",
   "metadata": {},
   "outputs": [
    {
     "data": {
      "text/html": [
       "<div>\n",
       "<style scoped>\n",
       "    .dataframe tbody tr th:only-of-type {\n",
       "        vertical-align: middle;\n",
       "    }\n",
       "\n",
       "    .dataframe tbody tr th {\n",
       "        vertical-align: top;\n",
       "    }\n",
       "\n",
       "    .dataframe thead th {\n",
       "        text-align: right;\n",
       "    }\n",
       "</style>\n",
       "<table border=\"1\" class=\"dataframe\">\n",
       "  <thead>\n",
       "    <tr style=\"text-align: right;\">\n",
       "      <th></th>\n",
       "      <th>ph</th>\n",
       "      <th>hard</th>\n",
       "      <th>solid</th>\n",
       "      <th>chloramines</th>\n",
       "      <th>sulfate</th>\n",
       "      <th>conduct</th>\n",
       "      <th>carbon</th>\n",
       "      <th>thm</th>\n",
       "      <th>turbidity</th>\n",
       "      <th>potability</th>\n",
       "    </tr>\n",
       "  </thead>\n",
       "  <tbody>\n",
       "    <tr>\n",
       "      <th>count</th>\n",
       "      <td>2785.000000</td>\n",
       "      <td>3276.000000</td>\n",
       "      <td>3276.000000</td>\n",
       "      <td>3276.000000</td>\n",
       "      <td>2495.000000</td>\n",
       "      <td>3276.000000</td>\n",
       "      <td>3276.000000</td>\n",
       "      <td>3114.000000</td>\n",
       "      <td>3276.000000</td>\n",
       "      <td>3276.000000</td>\n",
       "    </tr>\n",
       "    <tr>\n",
       "      <th>mean</th>\n",
       "      <td>7.080795</td>\n",
       "      <td>196.369496</td>\n",
       "      <td>22014.092526</td>\n",
       "      <td>7.122277</td>\n",
       "      <td>333.775777</td>\n",
       "      <td>426.205111</td>\n",
       "      <td>14.284970</td>\n",
       "      <td>66.396293</td>\n",
       "      <td>3.966786</td>\n",
       "      <td>0.390110</td>\n",
       "    </tr>\n",
       "    <tr>\n",
       "      <th>std</th>\n",
       "      <td>1.594320</td>\n",
       "      <td>32.879761</td>\n",
       "      <td>8768.570828</td>\n",
       "      <td>1.583085</td>\n",
       "      <td>41.416840</td>\n",
       "      <td>80.824064</td>\n",
       "      <td>3.308162</td>\n",
       "      <td>16.175008</td>\n",
       "      <td>0.780382</td>\n",
       "      <td>0.487849</td>\n",
       "    </tr>\n",
       "    <tr>\n",
       "      <th>min</th>\n",
       "      <td>0.000000</td>\n",
       "      <td>47.432000</td>\n",
       "      <td>320.942611</td>\n",
       "      <td>0.352000</td>\n",
       "      <td>129.000000</td>\n",
       "      <td>181.483754</td>\n",
       "      <td>2.200000</td>\n",
       "      <td>0.738000</td>\n",
       "      <td>1.450000</td>\n",
       "      <td>0.000000</td>\n",
       "    </tr>\n",
       "    <tr>\n",
       "      <th>25%</th>\n",
       "      <td>6.093092</td>\n",
       "      <td>176.850538</td>\n",
       "      <td>15666.690297</td>\n",
       "      <td>6.127421</td>\n",
       "      <td>307.699498</td>\n",
       "      <td>365.734414</td>\n",
       "      <td>12.065801</td>\n",
       "      <td>55.844536</td>\n",
       "      <td>3.439711</td>\n",
       "      <td>0.000000</td>\n",
       "    </tr>\n",
       "    <tr>\n",
       "      <th>50%</th>\n",
       "      <td>7.036752</td>\n",
       "      <td>196.967627</td>\n",
       "      <td>20927.833607</td>\n",
       "      <td>7.130299</td>\n",
       "      <td>333.073546</td>\n",
       "      <td>421.884968</td>\n",
       "      <td>14.218338</td>\n",
       "      <td>66.622485</td>\n",
       "      <td>3.955028</td>\n",
       "      <td>0.000000</td>\n",
       "    </tr>\n",
       "    <tr>\n",
       "      <th>75%</th>\n",
       "      <td>8.062066</td>\n",
       "      <td>216.667456</td>\n",
       "      <td>27332.762127</td>\n",
       "      <td>8.114887</td>\n",
       "      <td>359.950170</td>\n",
       "      <td>481.792304</td>\n",
       "      <td>16.557652</td>\n",
       "      <td>77.337473</td>\n",
       "      <td>4.500320</td>\n",
       "      <td>1.000000</td>\n",
       "    </tr>\n",
       "    <tr>\n",
       "      <th>max</th>\n",
       "      <td>14.000000</td>\n",
       "      <td>323.124000</td>\n",
       "      <td>61227.196008</td>\n",
       "      <td>13.127000</td>\n",
       "      <td>481.030642</td>\n",
       "      <td>753.342620</td>\n",
       "      <td>28.300000</td>\n",
       "      <td>124.000000</td>\n",
       "      <td>6.739000</td>\n",
       "      <td>1.000000</td>\n",
       "    </tr>\n",
       "  </tbody>\n",
       "</table>\n",
       "</div>"
      ],
      "text/plain": [
       "                ph         hard         solid  chloramines      sulfate  \\\n",
       "count  2785.000000  3276.000000   3276.000000  3276.000000  2495.000000   \n",
       "mean      7.080795   196.369496  22014.092526     7.122277   333.775777   \n",
       "std       1.594320    32.879761   8768.570828     1.583085    41.416840   \n",
       "min       0.000000    47.432000    320.942611     0.352000   129.000000   \n",
       "25%       6.093092   176.850538  15666.690297     6.127421   307.699498   \n",
       "50%       7.036752   196.967627  20927.833607     7.130299   333.073546   \n",
       "75%       8.062066   216.667456  27332.762127     8.114887   359.950170   \n",
       "max      14.000000   323.124000  61227.196008    13.127000   481.030642   \n",
       "\n",
       "           conduct       carbon          thm    turbidity   potability  \n",
       "count  3276.000000  3276.000000  3114.000000  3276.000000  3276.000000  \n",
       "mean    426.205111    14.284970    66.396293     3.966786     0.390110  \n",
       "std      80.824064     3.308162    16.175008     0.780382     0.487849  \n",
       "min     181.483754     2.200000     0.738000     1.450000     0.000000  \n",
       "25%     365.734414    12.065801    55.844536     3.439711     0.000000  \n",
       "50%     421.884968    14.218338    66.622485     3.955028     0.000000  \n",
       "75%     481.792304    16.557652    77.337473     4.500320     1.000000  \n",
       "max     753.342620    28.300000   124.000000     6.739000     1.000000  "
      ]
     },
     "execution_count": 5,
     "metadata": {},
     "output_type": "execute_result"
    }
   ],
   "source": [
    "df.describe()"
   ]
  },
  {
   "cell_type": "markdown",
   "id": "cubic-police",
   "metadata": {},
   "source": [
    "## Handling Missing Value"
   ]
  },
  {
   "cell_type": "markdown",
   "id": "bulgarian-moisture",
   "metadata": {},
   "source": [
    "### Check Missing value"
   ]
  },
  {
   "cell_type": "code",
   "execution_count": 6,
   "id": "functional-isaac",
   "metadata": {},
   "outputs": [
    {
     "data": {
      "text/html": [
       "<div>\n",
       "<style scoped>\n",
       "    .dataframe tbody tr th:only-of-type {\n",
       "        vertical-align: middle;\n",
       "    }\n",
       "\n",
       "    .dataframe tbody tr th {\n",
       "        vertical-align: top;\n",
       "    }\n",
       "\n",
       "    .dataframe thead th {\n",
       "        text-align: right;\n",
       "    }\n",
       "</style>\n",
       "<table border=\"1\" class=\"dataframe\">\n",
       "  <thead>\n",
       "    <tr style=\"text-align: right;\">\n",
       "      <th></th>\n",
       "      <th>Total Missing</th>\n",
       "      <th>Percentage</th>\n",
       "    </tr>\n",
       "  </thead>\n",
       "  <tbody>\n",
       "    <tr>\n",
       "      <th>ph</th>\n",
       "      <td>491</td>\n",
       "      <td>0.0</td>\n",
       "    </tr>\n",
       "    <tr>\n",
       "      <th>hard</th>\n",
       "      <td>0</td>\n",
       "      <td>0.0</td>\n",
       "    </tr>\n",
       "    <tr>\n",
       "      <th>solid</th>\n",
       "      <td>0</td>\n",
       "      <td>0.0</td>\n",
       "    </tr>\n",
       "    <tr>\n",
       "      <th>chloramines</th>\n",
       "      <td>0</td>\n",
       "      <td>0.0</td>\n",
       "    </tr>\n",
       "    <tr>\n",
       "      <th>sulfate</th>\n",
       "      <td>781</td>\n",
       "      <td>0.0</td>\n",
       "    </tr>\n",
       "    <tr>\n",
       "      <th>conduct</th>\n",
       "      <td>0</td>\n",
       "      <td>0.0</td>\n",
       "    </tr>\n",
       "    <tr>\n",
       "      <th>carbon</th>\n",
       "      <td>0</td>\n",
       "      <td>0.0</td>\n",
       "    </tr>\n",
       "    <tr>\n",
       "      <th>thm</th>\n",
       "      <td>162</td>\n",
       "      <td>0.0</td>\n",
       "    </tr>\n",
       "    <tr>\n",
       "      <th>turbidity</th>\n",
       "      <td>0</td>\n",
       "      <td>0.0</td>\n",
       "    </tr>\n",
       "    <tr>\n",
       "      <th>potability</th>\n",
       "      <td>0</td>\n",
       "      <td>0.0</td>\n",
       "    </tr>\n",
       "  </tbody>\n",
       "</table>\n",
       "</div>"
      ],
      "text/plain": [
       "             Total Missing  Percentage\n",
       "ph                     491         0.0\n",
       "hard                     0         0.0\n",
       "solid                    0         0.0\n",
       "chloramines              0         0.0\n",
       "sulfate                781         0.0\n",
       "conduct                  0         0.0\n",
       "carbon                   0         0.0\n",
       "thm                    162         0.0\n",
       "turbidity                0         0.0\n",
       "potability               0         0.0"
      ]
     },
     "execution_count": 6,
     "metadata": {},
     "output_type": "execute_result"
    }
   ],
   "source": [
    "#Mencari missing value\n",
    "total_missing = df.isnull().sum()\n",
    "missing_1 = total_missing / (df.isnull().count() * 100)\n",
    "missing_1 = round(missing_1, 1)\n",
    "missing_df = pd.concat([total_missing, missing_1], axis=1, keys=['Total Missing', 'Percentage'])\n",
    "missing_df"
   ]
  },
  {
   "cell_type": "markdown",
   "id": "modular-season",
   "metadata": {},
   "source": [
    "### Fill missing value with Mean"
   ]
  },
  {
   "cell_type": "code",
   "execution_count": 7,
   "id": "nuclear-security",
   "metadata": {},
   "outputs": [],
   "source": [
    "''' preparing data for model '''\n",
    "ph_mean = df[df['potability'] == 0]['ph'].mean(skipna=True)\n",
    "df.loc[(df['potability'] == 0) & (df['ph'].isna()), 'ph'] = ph_mean\n",
    "\n",
    "ph_mean_1 = df[df['potability'] == 1]['ph'].mean(skipna=True)\n",
    "df.loc[(df['potability'] == 1) & (df['ph'].isna()), 'ph'] = ph_mean_1\n",
    "\n",
    "sulf_mean = df[df['potability'] == 0]['sulfate'].mean(skipna=True)\n",
    "df.loc[(df['potability'] == 0) & (df['sulfate'].isna()), 'sulfate'] = sulf_mean\n",
    "\n",
    "sulf_mean_1 = df[df['potability'] == 1]['sulfate'].mean(skipna=True)\n",
    "df.loc[(df['potability'] == 1) & (df['sulfate'].isna()), 'sulfate'] = sulf_mean_1\n",
    "\n",
    "traih_mean = df[df['potability'] == 0]['thm'].mean(skipna=True)\n",
    "df.loc[(df['potability'] == 0) & (df['thm'].isna()), 'thm'] = traih_mean\n",
    "\n",
    "trah_mean_1 = df[df['potability'] == 1]['thm'].mean(skipna=True)\n",
    "df.loc[(df['potability'] == 1) & (df['thm'].isna()), 'thm'] = trah_mean_1"
   ]
  },
  {
   "cell_type": "code",
   "execution_count": 8,
   "id": "legitimate-parallel",
   "metadata": {},
   "outputs": [
    {
     "data": {
      "text/html": [
       "<div>\n",
       "<style scoped>\n",
       "    .dataframe tbody tr th:only-of-type {\n",
       "        vertical-align: middle;\n",
       "    }\n",
       "\n",
       "    .dataframe tbody tr th {\n",
       "        vertical-align: top;\n",
       "    }\n",
       "\n",
       "    .dataframe thead th {\n",
       "        text-align: right;\n",
       "    }\n",
       "</style>\n",
       "<table border=\"1\" class=\"dataframe\">\n",
       "  <thead>\n",
       "    <tr style=\"text-align: right;\">\n",
       "      <th></th>\n",
       "      <th>Total Missing</th>\n",
       "      <th>Percentage</th>\n",
       "    </tr>\n",
       "  </thead>\n",
       "  <tbody>\n",
       "    <tr>\n",
       "      <th>ph</th>\n",
       "      <td>0</td>\n",
       "      <td>0.0</td>\n",
       "    </tr>\n",
       "    <tr>\n",
       "      <th>hard</th>\n",
       "      <td>0</td>\n",
       "      <td>0.0</td>\n",
       "    </tr>\n",
       "    <tr>\n",
       "      <th>solid</th>\n",
       "      <td>0</td>\n",
       "      <td>0.0</td>\n",
       "    </tr>\n",
       "    <tr>\n",
       "      <th>chloramines</th>\n",
       "      <td>0</td>\n",
       "      <td>0.0</td>\n",
       "    </tr>\n",
       "    <tr>\n",
       "      <th>sulfate</th>\n",
       "      <td>0</td>\n",
       "      <td>0.0</td>\n",
       "    </tr>\n",
       "    <tr>\n",
       "      <th>conduct</th>\n",
       "      <td>0</td>\n",
       "      <td>0.0</td>\n",
       "    </tr>\n",
       "    <tr>\n",
       "      <th>carbon</th>\n",
       "      <td>0</td>\n",
       "      <td>0.0</td>\n",
       "    </tr>\n",
       "    <tr>\n",
       "      <th>thm</th>\n",
       "      <td>0</td>\n",
       "      <td>0.0</td>\n",
       "    </tr>\n",
       "    <tr>\n",
       "      <th>turbidity</th>\n",
       "      <td>0</td>\n",
       "      <td>0.0</td>\n",
       "    </tr>\n",
       "    <tr>\n",
       "      <th>potability</th>\n",
       "      <td>0</td>\n",
       "      <td>0.0</td>\n",
       "    </tr>\n",
       "  </tbody>\n",
       "</table>\n",
       "</div>"
      ],
      "text/plain": [
       "             Total Missing  Percentage\n",
       "ph                       0         0.0\n",
       "hard                     0         0.0\n",
       "solid                    0         0.0\n",
       "chloramines              0         0.0\n",
       "sulfate                  0         0.0\n",
       "conduct                  0         0.0\n",
       "carbon                   0         0.0\n",
       "thm                      0         0.0\n",
       "turbidity                0         0.0\n",
       "potability               0         0.0"
      ]
     },
     "execution_count": 8,
     "metadata": {},
     "output_type": "execute_result"
    }
   ],
   "source": [
    "#Mencari missing value\n",
    "total_missing = df.isnull().sum()\n",
    "missing_1 = total_missing / (df.isnull().count() * 100)\n",
    "missing_1 = round(missing_1, 1)\n",
    "missing_df = pd.concat([total_missing, missing_1], axis=1, keys=['Total Missing', 'Percentage'])\n",
    "missing_df"
   ]
  },
  {
   "cell_type": "markdown",
   "id": "historic-jumping",
   "metadata": {},
   "source": [
    "## Check Correlation"
   ]
  },
  {
   "cell_type": "code",
   "execution_count": 9,
   "id": "moderate-conducting",
   "metadata": {},
   "outputs": [
    {
     "data": {
      "text/plain": [
       "<AxesSubplot:>"
      ]
     },
     "execution_count": 9,
     "metadata": {},
     "output_type": "execute_result"
    },
    {
     "data": {
      "image/png": "[encoded data removed]",
      "text/plain": [
       "<Figure size 1440x1440 with 2 Axes>"
      ]
     },
     "metadata": {
      "needs_background": "light"
     },
     "output_type": "display_data"
    }
   ],
   "source": [
    "corr = df.corr().abs()\n",
    "\n",
    "#ambil bagian segitiga atas dari correlation matrix\n",
    "atas = corr.where(np.triu(np.ones(corr.shape), k=1).astype(bool))\n",
    "\n",
    "plt.figure(figsize=(20, 20))\n",
    "sns.heatmap(atas, annot=True, cmap='Blues')"
   ]
  },
  {
   "cell_type": "markdown",
   "id": "attended-symphony",
   "metadata": {},
   "source": []
  },
  {
   "cell_type": "code",
   "execution_count": 10,
   "id": "incorporate-implement",
   "metadata": {
    "scrolled": true
   },
   "outputs": [
    {
     "name": "stdout",
     "output_type": "stream",
     "text": [
      "ph             float64\n",
      "hard           float64\n",
      "solid          float64\n",
      "chloramines    float64\n",
      "sulfate        float64\n",
      "conduct        float64\n",
      "carbon         float64\n",
      "thm            float64\n",
      "turbidity      float64\n",
      "potability     float64\n",
      "dtype: object\n"
     ]
    }
   ],
   "source": [
    "#Mengganti keseluruhan data ke bentuk float agar lebih detail\n",
    "df = df.astype(float)\n",
    "print(df.dtypes)"
   ]
  },
  {
   "cell_type": "code",
   "execution_count": 11,
   "id": "talented-chemical",
   "metadata": {},
   "outputs": [],
   "source": [
    "''' independent and dependent features '''\n",
    "X = df.iloc[:, :-1]\n",
    "y = df.iloc[:, -1]\n"
   ]
  },
  {
   "cell_type": "code",
   "execution_count": 12,
   "id": "healthy-springer",
   "metadata": {},
   "outputs": [
    {
     "data": {
      "text/plain": [
       "(3276, 9)"
      ]
     },
     "execution_count": 12,
     "metadata": {},
     "output_type": "execute_result"
    }
   ],
   "source": [
    "X.shape"
   ]
  },
  {
   "cell_type": "code",
   "execution_count": 13,
   "id": "palestinian-western",
   "metadata": {},
   "outputs": [
    {
     "data": {
      "text/plain": [
       "(3276,)"
      ]
     },
     "execution_count": 13,
     "metadata": {},
     "output_type": "execute_result"
    }
   ],
   "source": [
    "y.shape"
   ]
  },
  {
   "cell_type": "code",
   "execution_count": 14,
   "id": "controlling-stamp",
   "metadata": {},
   "outputs": [
    {
     "name": "stdout",
     "output_type": "stream",
     "text": [
      "X_train shape:  (1965, 9)\n",
      "X_test shape:  (1311, 9)\n"
     ]
    }
   ],
   "source": [
    "X_train, X_test, y_train, y_test = train_test_split(X, y, test_size=0.4, random_state=42)\n",
    "print(\"X_train shape: \", X_train.shape)\n",
    "print(\"X_test shape: \", X_test.shape)"
   ]
  },
  {
   "cell_type": "code",
   "execution_count": 15,
   "id": "immune-activity",
   "metadata": {},
   "outputs": [
    {
     "data": {
      "text/plain": [
       "\"''' standard scaler '''\\nfrom sklearn.preprocessing import StandardScaler\\n\\nsc = StandardScaler()\\n\\nX_train = sc.fit_transform(X_train)\\nX_test = sc.transform(X_test)\""
      ]
     },
     "execution_count": 15,
     "metadata": {},
     "output_type": "execute_result"
    }
   ],
   "source": [
    "''\"\"\"''' standard scaler '''\n",
    "from sklearn.preprocessing import StandardScaler\n",
    "\n",
    "sc = StandardScaler()\n",
    "\n",
    "X_train = sc.fit_transform(X_train)\n",
    "X_test = sc.transform(X_test)\"\"\"''"
   ]
  },
  {
   "cell_type": "code",
   "execution_count": 16,
   "id": "plastic-owner",
   "metadata": {},
   "outputs": [],
   "source": [
    "from sklearn.neural_network import MLPClassifier\n",
    "from sklearn.linear_model import SGDClassifier\n",
    "from sklearn import svm\n",
    "from sklearn.svm import LinearSVC,NuSVC,SVC"
   ]
  },
  {
   "cell_type": "code",
   "execution_count": 17,
   "id": "unauthorized-sunset",
   "metadata": {},
   "outputs": [
    {
     "name": "stdout",
     "output_type": "stream",
     "text": [
      "----------Hasil Akhir per Algoritma------------\n",
      "DecisionTreeClassifier Acc Train: 1.0\n",
      "DecisionTreeClassifier Acc Test: 0.7467581998474447\n",
      "DecisionTreeClassifier Recall: 0.6551724137931034\n",
      "DecisionTreeClassifier Precission: 0.6659793814432989\n",
      "DecisionTreeClassifier AUC: 0.7285642020065762\n",
      "---------------------------\n",
      "----------Hasil Akhir per Algoritma------------\n",
      "LogisticRegression Acc Train: 0.6005089058524173\n",
      "LogisticRegression Acc Test: 0.623951182303585\n",
      "LogisticRegression Recall: 0.0\n",
      "LogisticRegression Precission: 0.0\n",
      "LogisticRegression AUC: 0.5\n",
      "---------------------------\n"
     ]
    },
    {
     "name": "stderr",
     "output_type": "stream",
     "text": [
      "C:\\Users\\OMEN\\Miniconda3\\lib\\site-packages\\sklearn\\metrics\\_classification.py:1308: UndefinedMetricWarning: Precision is ill-defined and being set to 0.0 due to no predicted samples. Use `zero_division` parameter to control this behavior.\n",
      "  _warn_prf(average, modifier, msg_start, len(result))\n"
     ]
    },
    {
     "name": "stdout",
     "output_type": "stream",
     "text": [
      "----------Hasil Akhir per Algoritma------------\n",
      "KNeighborsClassifier Acc Train: 0.7099236641221374\n",
      "KNeighborsClassifier Acc Test: 0.5491990846681922\n",
      "KNeighborsClassifier Recall: 0.2920892494929006\n",
      "KNeighborsClassifier Precission: 0.37305699481865284\n",
      "KNeighborsClassifier AUC: 0.49812286435525227\n",
      "---------------------------\n",
      "----------Hasil Akhir per Algoritma------------\n",
      "GaussianNB Acc Train: 0.6244274809160305\n",
      "GaussianNB Acc Test: 0.6369183829138062\n",
      "GaussianNB Recall: 0.2210953346855984\n",
      "GaussianNB Precission: 0.5422885572139303\n",
      "GaussianNB AUC: 0.5543129485163933\n",
      "---------------------------\n",
      "----------Hasil Akhir per Algoritma------------\n",
      "RandomForestClassifier Acc Train: 1.0\n",
      "RandomForestClassifier Acc Test: 0.7856598016781083\n",
      "RandomForestClassifier Recall: 0.6166328600405679\n",
      "RandomForestClassifier Precission: 0.7676767676767676\n",
      "RandomForestClassifier AUC: 0.7520817111938782\n",
      "---------------------------\n",
      "----------Hasil Akhir per Algoritma------------\n",
      "GradientBoostingClassifier Acc Train: 0.8646310432569975\n",
      "GradientBoostingClassifier Acc Test: 0.7948131197559115\n",
      "GradientBoostingClassifier Recall: 0.5780933062880325\n",
      "GradientBoostingClassifier Precission: 0.8236994219653179\n",
      "GradientBoostingClassifier AUC: 0.751760589574334\n",
      "---------------------------\n",
      "----------Hasil Akhir per Algoritma------------\n",
      "ExtraTreesClassifier Acc Train: 1.0\n",
      "ExtraTreesClassifier Acc Test: 0.7025171624713958\n",
      "ExtraTreesClassifier Recall: 0.3691683569979716\n",
      "ExtraTreesClassifier Precission: 0.6973180076628352\n",
      "ExtraTreesClassifier AUC: 0.6362956699415286\n",
      "---------------------------\n",
      "[23:19:23] WARNING: ..\\src\\learner.cc:1061: Starting in XGBoost 1.3.0, the default evaluation metric used with the objective 'binary:logistic' was changed from 'error' to 'logloss'. Explicitly set eval_metric if you'd like to restore the old behavior.\n"
     ]
    },
    {
     "name": "stderr",
     "output_type": "stream",
     "text": [
      "C:\\Users\\OMEN\\Miniconda3\\lib\\site-packages\\xgboost\\sklearn.py:888: UserWarning: The use of label encoder in XGBClassifier is deprecated and will be removed in a future release. To remove this warning, do the following: 1) Pass option use_label_encoder=False when constructing XGBClassifier object; and 2) Encode your labels (y) as integers starting with 0, i.e. 0, 1, 2, ..., [num_class - 1].\n",
      "  warnings.warn(label_encoder_deprecation_msg, UserWarning)\n"
     ]
    },
    {
     "name": "stdout",
     "output_type": "stream",
     "text": [
      "----------Hasil Akhir per Algoritma------------\n",
      "XGBClassifier Acc Train: 1.0\n",
      "XGBClassifier Acc Test: 0.7848970251716247\n",
      "XGBClassifier Recall: 0.6632860040567952\n",
      "XGBClassifier Precission: 0.7381489841986456\n",
      "XGBClassifier AUC: 0.760738356551625\n",
      "---------------------------\n",
      "----------Hasil Akhir per Algoritma------------\n",
      "MLPClassifier Acc Train: 0.3984732824427481\n",
      "MLPClassifier Acc Test: 0.37757437070938216\n",
      "MLPClassifier Recall: 0.9797160243407708\n",
      "MLPClassifier Precission: 0.37470907680372384\n",
      "MLPClassifier AUC: 0.49719297549556873\n",
      "---------------------------\n",
      "----------Hasil Akhir per Algoritma------------\n",
      "SGDClassifier Acc Train: 0.6005089058524173\n",
      "SGDClassifier Acc Test: 0.623951182303585\n",
      "SGDClassifier Recall: 0.0\n",
      "SGDClassifier Precission: 0.0\n",
      "SGDClassifier AUC: 0.5\n",
      "---------------------------\n"
     ]
    },
    {
     "name": "stderr",
     "output_type": "stream",
     "text": [
      "C:\\Users\\OMEN\\Miniconda3\\lib\\site-packages\\sklearn\\metrics\\_classification.py:1308: UndefinedMetricWarning: Precision is ill-defined and being set to 0.0 due to no predicted samples. Use `zero_division` parameter to control this behavior.\n",
      "  _warn_prf(average, modifier, msg_start, len(result))\n",
      "C:\\Users\\OMEN\\Miniconda3\\lib\\site-packages\\sklearn\\svm\\_base.py:1208: ConvergenceWarning: Liblinear failed to converge, increase the number of iterations.\n",
      "  ConvergenceWarning,\n"
     ]
    },
    {
     "name": "stdout",
     "output_type": "stream",
     "text": [
      "----------Hasil Akhir per Algoritma------------\n",
      "LinearSVC Acc Train: 0.3994910941475827\n",
      "LinearSVC Acc Test: 0.37604881769641496\n",
      "LinearSVC Recall: 1.0\n",
      "LinearSVC Precission: 0.37604881769641496\n",
      "LinearSVC AUC: 0.5\n",
      "---------------------------\n",
      "----------Hasil Akhir per Algoritma------------\n",
      "NuSVC Acc Train: 0.45648854961832064\n",
      "NuSVC Acc Test: 0.45537757437070936\n",
      "NuSVC Recall: 0.5801217038539553\n",
      "NuSVC Precission: 0.36065573770491804\n",
      "NuSVC AUC: 0.4801586514379801\n",
      "---------------------------\n",
      "----------Hasil Akhir per Algoritma------------\n",
      "SVC Acc Train: 0.6005089058524173\n",
      "SVC Acc Test: 0.623951182303585\n",
      "SVC Recall: 0.0\n",
      "SVC Precission: 0.0\n",
      "SVC AUC: 0.5\n",
      "---------------------------\n"
     ]
    },
    {
     "name": "stderr",
     "output_type": "stream",
     "text": [
      "C:\\Users\\OMEN\\Miniconda3\\lib\\site-packages\\sklearn\\metrics\\_classification.py:1308: UndefinedMetricWarning: Precision is ill-defined and being set to 0.0 due to no predicted samples. Use `zero_division` parameter to control this behavior.\n",
      "  _warn_prf(average, modifier, msg_start, len(result))\n"
     ]
    }
   ],
   "source": [
    "## Collect all model in one list\n",
    "all_model = [DecisionTreeClassifier,\n",
    "            LogisticRegression,\n",
    "             KNeighborsClassifier,\n",
    "             GaussianNB,\n",
    "            RandomForestClassifier,\n",
    "            GradientBoostingClassifier,\n",
    "            ExtraTreesClassifier,\n",
    "             XGBClassifier,\n",
    "            MLPClassifier,SGDClassifier,LinearSVC,NuSVC,SVC]\n",
    "\n",
    "model_name = ['DecisionTreeClassifier',\n",
    "            'LogisticRegression',\n",
    "             'KNeighborsClassifier',\n",
    "             'GaussianNB',\n",
    "            'RandomForestClassifier',\n",
    "            'GradientBoostingClassifier',\n",
    "            'ExtraTreesClassifier',\n",
    "             'XGBClassifier',\n",
    "             'MLPClassifier',\n",
    "             'SGDClassifier',\n",
    "             'LinearSVC','NuSVC','SVC']\n",
    "## loop for all model\n",
    "\n",
    "datatr = []\n",
    "datasc = []\n",
    "Recall =[]\n",
    "Precision =[]\n",
    "auc =[]\n",
    "\n",
    "\n",
    "for idx, model_type in enumerate(all_model):\n",
    "    AccTrain = []\n",
    "    AccTest = []\n",
    "    RecallTemp = []\n",
    "    PrecisionTemp = []\n",
    "    AucTemp = []\n",
    "    nfold = 1\n",
    "    \n",
    "    model = model_type()\n",
    "    model.fit(X_train,y_train)\n",
    "    y_pred=model.predict(X_test)\n",
    "\n",
    "    AccTrain.append(model.score(X_train , y_train))\n",
    "    AccTest.append(model.score(X_test , y_test))\n",
    "    RecallTemp.append(recall_score(y_test,y_pred))\n",
    "    PrecisionTemp.append(precision_score(y_test,y_pred))\n",
    "    AucTemp.append(roc_auc_score(y_test, y_pred))\n",
    "\n",
    "    \n",
    "    print(\"----------Hasil Akhir per Algoritma------------\")\n",
    "    print(\"{} Acc Train: {}\".format(model_name[idx], np.mean(AccTrain)))\n",
    "    print(\"{} Acc Test: {}\".format(model_name[idx], np.mean(AccTest)))\n",
    "    print(\"{} Recall: {}\".format(model_name[idx], np.mean(RecallTemp)))\n",
    "    print(\"{} Precission: {}\".format(model_name[idx], np.mean(PrecisionTemp)))\n",
    "    print(\"{} AUC: {}\".format(model_name[idx], np.mean(AucTemp)))\n",
    "    print(\"---------------------------\")\n",
    "    datatr.append(np.mean(AccTrain))\n",
    "    datasc.append(np.mean(AccTest))\n",
    "    Recall.append(np.mean(RecallTemp))\n",
    "    Precision.append(np.mean(PrecisionTemp))\n",
    "    auc.append(np.mean(AucTemp))"
   ]
  },
  {
   "cell_type": "markdown",
   "id": "coordinate-underwear",
   "metadata": {},
   "source": [
    "## Membandingkan setiap model"
   ]
  },
  {
   "cell_type": "code",
   "execution_count": 18,
   "id": "equal-characteristic",
   "metadata": {},
   "outputs": [
    {
     "data": {
      "text/html": [
       "<div>\n",
       "<style scoped>\n",
       "    .dataframe tbody tr th:only-of-type {\n",
       "        vertical-align: middle;\n",
       "    }\n",
       "\n",
       "    .dataframe tbody tr th {\n",
       "        vertical-align: top;\n",
       "    }\n",
       "\n",
       "    .dataframe thead th {\n",
       "        text-align: right;\n",
       "    }\n",
       "</style>\n",
       "<table border=\"1\" class=\"dataframe\">\n",
       "  <thead>\n",
       "    <tr style=\"text-align: right;\">\n",
       "      <th></th>\n",
       "      <th>model</th>\n",
       "      <th>Accuracy training</th>\n",
       "      <th>Accuracy test</th>\n",
       "      <th>Precision</th>\n",
       "      <th>Recall</th>\n",
       "      <th>AUC</th>\n",
       "      <th>gap</th>\n",
       "    </tr>\n",
       "  </thead>\n",
       "  <tbody>\n",
       "    <tr>\n",
       "      <th>5</th>\n",
       "      <td>GradientBoostingClassifier</td>\n",
       "      <td>0.864631</td>\n",
       "      <td>0.794813</td>\n",
       "      <td>0.823699</td>\n",
       "      <td>0.578093</td>\n",
       "      <td>0.751761</td>\n",
       "      <td>0.069818</td>\n",
       "    </tr>\n",
       "    <tr>\n",
       "      <th>4</th>\n",
       "      <td>RandomForestClassifier</td>\n",
       "      <td>1.000000</td>\n",
       "      <td>0.785660</td>\n",
       "      <td>0.767677</td>\n",
       "      <td>0.616633</td>\n",
       "      <td>0.752082</td>\n",
       "      <td>0.214340</td>\n",
       "    </tr>\n",
       "    <tr>\n",
       "      <th>7</th>\n",
       "      <td>XGBClassifier</td>\n",
       "      <td>1.000000</td>\n",
       "      <td>0.784897</td>\n",
       "      <td>0.738149</td>\n",
       "      <td>0.663286</td>\n",
       "      <td>0.760738</td>\n",
       "      <td>0.215103</td>\n",
       "    </tr>\n",
       "    <tr>\n",
       "      <th>0</th>\n",
       "      <td>DecisionTreeClassifier</td>\n",
       "      <td>1.000000</td>\n",
       "      <td>0.746758</td>\n",
       "      <td>0.665979</td>\n",
       "      <td>0.655172</td>\n",
       "      <td>0.728564</td>\n",
       "      <td>0.253242</td>\n",
       "    </tr>\n",
       "    <tr>\n",
       "      <th>6</th>\n",
       "      <td>ExtraTreesClassifier</td>\n",
       "      <td>1.000000</td>\n",
       "      <td>0.702517</td>\n",
       "      <td>0.697318</td>\n",
       "      <td>0.369168</td>\n",
       "      <td>0.636296</td>\n",
       "      <td>0.297483</td>\n",
       "    </tr>\n",
       "    <tr>\n",
       "      <th>3</th>\n",
       "      <td>GaussianNB</td>\n",
       "      <td>0.624427</td>\n",
       "      <td>0.636918</td>\n",
       "      <td>0.542289</td>\n",
       "      <td>0.221095</td>\n",
       "      <td>0.554313</td>\n",
       "      <td>0.012491</td>\n",
       "    </tr>\n",
       "    <tr>\n",
       "      <th>1</th>\n",
       "      <td>LogisticRegression</td>\n",
       "      <td>0.600509</td>\n",
       "      <td>0.623951</td>\n",
       "      <td>0.000000</td>\n",
       "      <td>0.000000</td>\n",
       "      <td>0.500000</td>\n",
       "      <td>0.023442</td>\n",
       "    </tr>\n",
       "    <tr>\n",
       "      <th>9</th>\n",
       "      <td>SGDClassifier</td>\n",
       "      <td>0.600509</td>\n",
       "      <td>0.623951</td>\n",
       "      <td>0.000000</td>\n",
       "      <td>0.000000</td>\n",
       "      <td>0.500000</td>\n",
       "      <td>0.023442</td>\n",
       "    </tr>\n",
       "    <tr>\n",
       "      <th>12</th>\n",
       "      <td>SVC</td>\n",
       "      <td>0.600509</td>\n",
       "      <td>0.623951</td>\n",
       "      <td>0.000000</td>\n",
       "      <td>0.000000</td>\n",
       "      <td>0.500000</td>\n",
       "      <td>0.023442</td>\n",
       "    </tr>\n",
       "    <tr>\n",
       "      <th>2</th>\n",
       "      <td>KNeighborsClassifier</td>\n",
       "      <td>0.709924</td>\n",
       "      <td>0.549199</td>\n",
       "      <td>0.373057</td>\n",
       "      <td>0.292089</td>\n",
       "      <td>0.498123</td>\n",
       "      <td>0.160725</td>\n",
       "    </tr>\n",
       "    <tr>\n",
       "      <th>11</th>\n",
       "      <td>NuSVC</td>\n",
       "      <td>0.456489</td>\n",
       "      <td>0.455378</td>\n",
       "      <td>0.360656</td>\n",
       "      <td>0.580122</td>\n",
       "      <td>0.480159</td>\n",
       "      <td>0.001111</td>\n",
       "    </tr>\n",
       "    <tr>\n",
       "      <th>8</th>\n",
       "      <td>MLPClassifier</td>\n",
       "      <td>0.398473</td>\n",
       "      <td>0.377574</td>\n",
       "      <td>0.374709</td>\n",
       "      <td>0.979716</td>\n",
       "      <td>0.497193</td>\n",
       "      <td>0.020899</td>\n",
       "    </tr>\n",
       "    <tr>\n",
       "      <th>10</th>\n",
       "      <td>LinearSVC</td>\n",
       "      <td>0.399491</td>\n",
       "      <td>0.376049</td>\n",
       "      <td>0.376049</td>\n",
       "      <td>1.000000</td>\n",
       "      <td>0.500000</td>\n",
       "      <td>0.023442</td>\n",
       "    </tr>\n",
       "  </tbody>\n",
       "</table>\n",
       "</div>"
      ],
      "text/plain": [
       "                         model  Accuracy training  Accuracy test  Precision  \\\n",
       "5   GradientBoostingClassifier           0.864631       0.794813   0.823699   \n",
       "4       RandomForestClassifier           1.000000       0.785660   0.767677   \n",
       "7                XGBClassifier           1.000000       0.784897   0.738149   \n",
       "0       DecisionTreeClassifier           1.000000       0.746758   0.665979   \n",
       "6         ExtraTreesClassifier           1.000000       0.702517   0.697318   \n",
       "3                   GaussianNB           0.624427       0.636918   0.542289   \n",
       "1           LogisticRegression           0.600509       0.623951   0.000000   \n",
       "9                SGDClassifier           0.600509       0.623951   0.000000   \n",
       "12                         SVC           0.600509       0.623951   0.000000   \n",
       "2         KNeighborsClassifier           0.709924       0.549199   0.373057   \n",
       "11                       NuSVC           0.456489       0.455378   0.360656   \n",
       "8                MLPClassifier           0.398473       0.377574   0.374709   \n",
       "10                   LinearSVC           0.399491       0.376049   0.376049   \n",
       "\n",
       "      Recall       AUC       gap  \n",
       "5   0.578093  0.751761  0.069818  \n",
       "4   0.616633  0.752082  0.214340  \n",
       "7   0.663286  0.760738  0.215103  \n",
       "0   0.655172  0.728564  0.253242  \n",
       "6   0.369168  0.636296  0.297483  \n",
       "3   0.221095  0.554313  0.012491  \n",
       "1   0.000000  0.500000  0.023442  \n",
       "9   0.000000  0.500000  0.023442  \n",
       "12  0.000000  0.500000  0.023442  \n",
       "2   0.292089  0.498123  0.160725  \n",
       "11  0.580122  0.480159  0.001111  \n",
       "8   0.979716  0.497193  0.020899  \n",
       "10  1.000000  0.500000  0.023442  "
      ]
     },
     "execution_count": 18,
     "metadata": {},
     "output_type": "execute_result"
    }
   ],
   "source": [
    "data_hasil = pd.DataFrame()\n",
    "data_hasil['model'] = model_name\n",
    "data_hasil['Accuracy training'] = datatr\n",
    "data_hasil['Accuracy test'] = datasc\n",
    "data_hasil['Precision'] = Precision\n",
    "data_hasil['Recall']= Recall\n",
    "data_hasil['AUC']=auc\n",
    "data_hasil['gap'] = abs(data_hasil['Accuracy training'] - data_hasil['Accuracy test'])\n",
    "data_hasil.sort_values(by='Accuracy test',ascending=False)"
   ]
  },
  {
   "cell_type": "markdown",
   "id": "religious-recruitment",
   "metadata": {},
   "source": [
    "# Tanpa Parameter Terbaik"
   ]
  },
  {
   "cell_type": "code",
   "execution_count": 70,
   "id": "dried-pioneer",
   "metadata": {
    "scrolled": true
   },
   "outputs": [
    {
     "ename": "AttributeError",
     "evalue": "'numpy.ndarray' object has no attribute 'values'",
     "output_type": "error",
     "traceback": [
      "\u001b[1;31m---------------------------------------------------------------------------\u001b[0m",
      "\u001b[1;31mAttributeError\u001b[0m                            Traceback (most recent call last)",
      "\u001b[1;32m<ipython-input-70-2631d9b19088>\u001b[0m in \u001b[0;36m<module>\u001b[1;34m\u001b[0m\n\u001b[1;32m----> 1\u001b[1;33m \u001b[0mX_train\u001b[0m \u001b[1;33m=\u001b[0m \u001b[0mX_train\u001b[0m\u001b[1;33m.\u001b[0m\u001b[0mvalues\u001b[0m\u001b[1;33m\u001b[0m\u001b[1;33m\u001b[0m\u001b[0m\n\u001b[0m",
      "\u001b[1;31mAttributeError\u001b[0m: 'numpy.ndarray' object has no attribute 'values'"
     ]
    }
   ],
   "source": [
    "X_train = X_train.values"
   ]
  },
  {
   "cell_type": "markdown",
   "id": "innovative-hawaii",
   "metadata": {},
   "source": [
    "### Split Data Menjadi Train dan Test"
   ]
  },
  {
   "cell_type": "code",
   "execution_count": null,
   "id": "extended-topic",
   "metadata": {},
   "outputs": [],
   "source": [
    "X_train, X_test, y_train, y_test = train_test_split(X, y, test_size=0.1, random_state=2222)"
   ]
  },
  {
   "cell_type": "markdown",
   "id": "distinct-guide",
   "metadata": {},
   "source": [
    "### Training dan Testing Model"
   ]
  },
  {
   "cell_type": "code",
   "execution_count": 19,
   "id": "amateur-region",
   "metadata": {},
   "outputs": [
    {
     "name": "stdout",
     "output_type": "stream",
     "text": [
      "              precision    recall  f1-score   support\n",
      "\n",
      "         0.0       0.83      0.97      0.90      1180\n",
      "         1.0       0.94      0.71      0.81       785\n",
      "\n",
      "    accuracy                           0.86      1965\n",
      "   macro avg       0.89      0.84      0.85      1965\n",
      "weighted avg       0.88      0.86      0.86      1965\n",
      "\n"
     ]
    }
   ],
   "source": [
    "#Training\n",
    "\n",
    "modeltun = GradientBoostingClassifier()\n",
    "model_fit = modeltun.fit(X_train,y_train)\n",
    "y_pred_train=model_fit.predict(X_train)\n",
    "print(classification_report(y_train,y_pred_train))"
   ]
  },
  {
   "cell_type": "code",
   "execution_count": 20,
   "id": "acting-twist",
   "metadata": {},
   "outputs": [
    {
     "name": "stdout",
     "output_type": "stream",
     "text": [
      "Confusion Matrix: [[1145  231]\n",
      " [  35  554]]\n"
     ]
    },
    {
     "data": {
      "text/plain": [
       "<AxesSubplot:>"
      ]
     },
     "execution_count": 20,
     "metadata": {},
     "output_type": "execute_result"
    },
    {
     "data": {
      "image/png": "[encoded data removed]",
      "text/plain": [
       "<Figure size 432x288 with 2 Axes>"
      ]
     },
     "metadata": {
      "needs_background": "light"
     },
     "output_type": "display_data"
    }
   ],
   "source": [
    "cm_train = confusion_matrix(y_pred_train, y_train)\n",
    "print('Confusion Matrix: {}'.format(cm_train))\n",
    "\n",
    "## visualisasi\n",
    "sns.heatmap(cm_train, annot=True, fmt='', cmap=\"Blues\")"
   ]
  },
  {
   "cell_type": "code",
   "execution_count": 21,
   "id": "compatible-import",
   "metadata": {},
   "outputs": [
    {
     "data": {
      "text/html": [
       "<div>\n",
       "<style scoped>\n",
       "    .dataframe tbody tr th:only-of-type {\n",
       "        vertical-align: middle;\n",
       "    }\n",
       "\n",
       "    .dataframe tbody tr th {\n",
       "        vertical-align: top;\n",
       "    }\n",
       "\n",
       "    .dataframe thead th {\n",
       "        text-align: right;\n",
       "    }\n",
       "</style>\n",
       "<table border=\"1\" class=\"dataframe\">\n",
       "  <thead>\n",
       "    <tr style=\"text-align: right;\">\n",
       "      <th></th>\n",
       "      <th>ph</th>\n",
       "      <th>hard</th>\n",
       "      <th>solid</th>\n",
       "      <th>chloramines</th>\n",
       "      <th>sulfate</th>\n",
       "      <th>conduct</th>\n",
       "      <th>carbon</th>\n",
       "      <th>thm</th>\n",
       "      <th>turbidity</th>\n",
       "      <th>potability</th>\n",
       "    </tr>\n",
       "  </thead>\n",
       "  <tbody>\n",
       "    <tr>\n",
       "      <th>0</th>\n",
       "      <td>7.085378</td>\n",
       "      <td>204.890455</td>\n",
       "      <td>20791.318981</td>\n",
       "      <td>7.300212</td>\n",
       "      <td>368.516441</td>\n",
       "      <td>564.308654</td>\n",
       "      <td>10.379783</td>\n",
       "      <td>86.99097</td>\n",
       "      <td>2.963135</td>\n",
       "      <td>0.0</td>\n",
       "    </tr>\n",
       "  </tbody>\n",
       "</table>\n",
       "</div>"
      ],
      "text/plain": [
       "         ph        hard         solid  chloramines     sulfate     conduct  \\\n",
       "0  7.085378  204.890455  20791.318981     7.300212  368.516441  564.308654   \n",
       "\n",
       "      carbon       thm  turbidity  potability  \n",
       "0  10.379783  86.99097   2.963135         0.0  "
      ]
     },
     "execution_count": 21,
     "metadata": {},
     "output_type": "execute_result"
    }
   ],
   "source": [
    "df.head(1)"
   ]
  },
  {
   "cell_type": "code",
   "execution_count": 22,
   "id": "continuous-allowance",
   "metadata": {},
   "outputs": [
    {
     "name": "stdout",
     "output_type": "stream",
     "text": [
      "              precision    recall  f1-score   support\n",
      "\n",
      "         0.0       0.78      0.93      0.85       818\n",
      "         1.0       0.82      0.58      0.68       493\n",
      "\n",
      "    accuracy                           0.79      1311\n",
      "   macro avg       0.80      0.75      0.76      1311\n",
      "weighted avg       0.80      0.79      0.79      1311\n",
      "\n"
     ]
    }
   ],
   "source": [
    "#Testing\n",
    "y_pred_test=model_fit.predict(X_test)\n",
    "print(classification_report(y_test,y_pred_test))"
   ]
  },
  {
   "cell_type": "code",
   "execution_count": 23,
   "id": "relevant-snapshot",
   "metadata": {},
   "outputs": [
    {
     "name": "stdout",
     "output_type": "stream",
     "text": [
      "Accuracy: 79.48%\n"
     ]
    }
   ],
   "source": [
    "accuracy = accuracy_score(y_test, y_pred_test)\n",
    "print(\"Accuracy: %.2f%%\" % (accuracy * 100.0))"
   ]
  },
  {
   "cell_type": "code",
   "execution_count": 24,
   "id": "binary-reynolds",
   "metadata": {},
   "outputs": [
    {
     "name": "stdout",
     "output_type": "stream",
     "text": [
      "Confusion Matrix: [[757 208]\n",
      " [ 61 285]]\n"
     ]
    },
    {
     "data": {
      "text/plain": [
       "<AxesSubplot:>"
      ]
     },
     "execution_count": 24,
     "metadata": {},
     "output_type": "execute_result"
    },
    {
     "data": {
      "image/png": "[encoded data removed]",
      "text/plain": [
       "<Figure size 432x288 with 2 Axes>"
      ]
     },
     "metadata": {
      "needs_background": "light"
     },
     "output_type": "display_data"
    }
   ],
   "source": [
    "cm_test = confusion_matrix(y_pred_test, y_test)\n",
    "print('Confusion Matrix: {}'.format(cm_test))\n",
    "## visualisasi\n",
    "sns.heatmap(cm_test, annot=True, fmt='', cmap=\"Blues\")"
   ]
  },
  {
   "cell_type": "markdown",
   "id": "human-conservation",
   "metadata": {},
   "source": [
    "## Predict data"
   ]
  },
  {
   "cell_type": "code",
   "execution_count": 25,
   "id": "forced-subcommittee",
   "metadata": {},
   "outputs": [
    {
     "data": {
      "text/plain": [
       "array([[7.87467100e+00, 1.95102299e+02, 1.74041771e+04, 7.50930600e+00,\n",
       "        3.32566990e+02, 3.27459760e+02, 1.61403680e+01, 7.86984460e+01,\n",
       "        2.30914900e+00]])"
      ]
     },
     "execution_count": 25,
     "metadata": {},
     "output_type": "execute_result"
    }
   ],
   "source": [
    "a = [[7.874671,195.102299,17404.177061,7.509306,332.566990,327.459760,16.140368,78.698446,2.309149]]\n",
    "a = np.asarray(a)\n",
    "a"
   ]
  },
  {
   "cell_type": "code",
   "execution_count": 26,
   "id": "enormous-button",
   "metadata": {},
   "outputs": [],
   "source": [
    "import pickle\n",
    "with open('dump.pkl', 'wb') as f:\n",
    "        pickle.dump(model_fit, f)\n"
   ]
  },
  {
   "cell_type": "code",
   "execution_count": 78,
   "id": "wicked-framing",
   "metadata": {},
   "outputs": [
    {
     "data": {
      "text/plain": [
       "array([1.])"
      ]
     },
     "execution_count": 78,
     "metadata": {},
     "output_type": "execute_result"
    }
   ],
   "source": [
    "#a = np.asarray(a)\n",
    "hasil = model_fit.predict(a)\n",
    "hasil"
   ]
  },
  {
   "cell_type": "markdown",
   "id": "palestinian-picking",
   "metadata": {},
   "source": [
    "### Export Model"
   ]
  },
  {
   "cell_type": "code",
   "execution_count": 79,
   "id": "friendly-consumption",
   "metadata": {},
   "outputs": [],
   "source": [
    "import joblib"
   ]
  },
  {
   "cell_type": "code",
   "execution_count": 90,
   "id": "certified-madison",
   "metadata": {},
   "outputs": [],
   "source": [
    "import joblib\n",
    "joblib.dump(model_fit, \"model_GB.pkl\")\n",
    "classifer = joblib.load(\"model_GB.pkl\")\n"
   ]
  },
  {
   "cell_type": "code",
   "execution_count": 91,
   "id": "looking-gasoline",
   "metadata": {},
   "outputs": [
    {
     "data": {
      "text/html": [
       "<div>\n",
       "<style scoped>\n",
       "    .dataframe tbody tr th:only-of-type {\n",
       "        vertical-align: middle;\n",
       "    }\n",
       "\n",
       "    .dataframe tbody tr th {\n",
       "        vertical-align: top;\n",
       "    }\n",
       "\n",
       "    .dataframe thead th {\n",
       "        text-align: right;\n",
       "    }\n",
       "</style>\n",
       "<table border=\"1\" class=\"dataframe\">\n",
       "  <thead>\n",
       "    <tr style=\"text-align: right;\">\n",
       "      <th></th>\n",
       "      <th>ph</th>\n",
       "      <th>hard</th>\n",
       "      <th>solid</th>\n",
       "      <th>chloramines</th>\n",
       "      <th>sulfate</th>\n",
       "      <th>conduct</th>\n",
       "      <th>carbon</th>\n",
       "      <th>thm</th>\n",
       "      <th>turbidity</th>\n",
       "      <th>potability</th>\n",
       "    </tr>\n",
       "  </thead>\n",
       "  <tbody>\n",
       "    <tr>\n",
       "      <th>0</th>\n",
       "      <td>7.085378</td>\n",
       "      <td>204.890455</td>\n",
       "      <td>20791.318981</td>\n",
       "      <td>7.300212</td>\n",
       "      <td>368.516441</td>\n",
       "      <td>564.308654</td>\n",
       "      <td>10.379783</td>\n",
       "      <td>86.990970</td>\n",
       "      <td>2.963135</td>\n",
       "      <td>0.0</td>\n",
       "    </tr>\n",
       "    <tr>\n",
       "      <th>1</th>\n",
       "      <td>3.716080</td>\n",
       "      <td>129.422921</td>\n",
       "      <td>18630.057858</td>\n",
       "      <td>6.635246</td>\n",
       "      <td>334.564290</td>\n",
       "      <td>592.885359</td>\n",
       "      <td>15.180013</td>\n",
       "      <td>56.329076</td>\n",
       "      <td>4.500656</td>\n",
       "      <td>0.0</td>\n",
       "    </tr>\n",
       "    <tr>\n",
       "      <th>2</th>\n",
       "      <td>8.099124</td>\n",
       "      <td>224.236259</td>\n",
       "      <td>19909.541732</td>\n",
       "      <td>9.275884</td>\n",
       "      <td>334.564290</td>\n",
       "      <td>418.606213</td>\n",
       "      <td>16.868637</td>\n",
       "      <td>66.420093</td>\n",
       "      <td>3.055934</td>\n",
       "      <td>0.0</td>\n",
       "    </tr>\n",
       "    <tr>\n",
       "      <th>3</th>\n",
       "      <td>8.316766</td>\n",
       "      <td>214.373394</td>\n",
       "      <td>22018.417441</td>\n",
       "      <td>8.059332</td>\n",
       "      <td>356.886136</td>\n",
       "      <td>363.266516</td>\n",
       "      <td>18.436524</td>\n",
       "      <td>100.341674</td>\n",
       "      <td>4.628771</td>\n",
       "      <td>0.0</td>\n",
       "    </tr>\n",
       "    <tr>\n",
       "      <th>4</th>\n",
       "      <td>9.092223</td>\n",
       "      <td>181.101509</td>\n",
       "      <td>17978.986339</td>\n",
       "      <td>6.546600</td>\n",
       "      <td>310.135738</td>\n",
       "      <td>398.410813</td>\n",
       "      <td>11.558279</td>\n",
       "      <td>31.997993</td>\n",
       "      <td>4.075075</td>\n",
       "      <td>0.0</td>\n",
       "    </tr>\n",
       "    <tr>\n",
       "      <th>...</th>\n",
       "      <td>...</td>\n",
       "      <td>...</td>\n",
       "      <td>...</td>\n",
       "      <td>...</td>\n",
       "      <td>...</td>\n",
       "      <td>...</td>\n",
       "      <td>...</td>\n",
       "      <td>...</td>\n",
       "      <td>...</td>\n",
       "      <td>...</td>\n",
       "    </tr>\n",
       "    <tr>\n",
       "      <th>3271</th>\n",
       "      <td>4.668102</td>\n",
       "      <td>193.681735</td>\n",
       "      <td>47580.991603</td>\n",
       "      <td>7.166639</td>\n",
       "      <td>359.948574</td>\n",
       "      <td>526.424171</td>\n",
       "      <td>13.894419</td>\n",
       "      <td>66.687695</td>\n",
       "      <td>4.435821</td>\n",
       "      <td>1.0</td>\n",
       "    </tr>\n",
       "    <tr>\n",
       "      <th>3272</th>\n",
       "      <td>7.808856</td>\n",
       "      <td>193.553212</td>\n",
       "      <td>17329.802160</td>\n",
       "      <td>8.061362</td>\n",
       "      <td>332.566990</td>\n",
       "      <td>392.449580</td>\n",
       "      <td>19.903225</td>\n",
       "      <td>66.539684</td>\n",
       "      <td>2.798243</td>\n",
       "      <td>1.0</td>\n",
       "    </tr>\n",
       "    <tr>\n",
       "      <th>3273</th>\n",
       "      <td>9.419510</td>\n",
       "      <td>175.762646</td>\n",
       "      <td>33155.578218</td>\n",
       "      <td>7.350233</td>\n",
       "      <td>332.566990</td>\n",
       "      <td>432.044783</td>\n",
       "      <td>11.039070</td>\n",
       "      <td>69.845400</td>\n",
       "      <td>3.298875</td>\n",
       "      <td>1.0</td>\n",
       "    </tr>\n",
       "    <tr>\n",
       "      <th>3274</th>\n",
       "      <td>5.126763</td>\n",
       "      <td>230.603758</td>\n",
       "      <td>11983.869376</td>\n",
       "      <td>6.303357</td>\n",
       "      <td>332.566990</td>\n",
       "      <td>402.883113</td>\n",
       "      <td>11.168946</td>\n",
       "      <td>77.488213</td>\n",
       "      <td>4.708658</td>\n",
       "      <td>1.0</td>\n",
       "    </tr>\n",
       "    <tr>\n",
       "      <th>3275</th>\n",
       "      <td>7.874671</td>\n",
       "      <td>195.102299</td>\n",
       "      <td>17404.177061</td>\n",
       "      <td>7.509306</td>\n",
       "      <td>332.566990</td>\n",
       "      <td>327.459760</td>\n",
       "      <td>16.140368</td>\n",
       "      <td>78.698446</td>\n",
       "      <td>2.309149</td>\n",
       "      <td>1.0</td>\n",
       "    </tr>\n",
       "  </tbody>\n",
       "</table>\n",
       "<p>3276 rows × 10 columns</p>\n",
       "</div>"
      ],
      "text/plain": [
       "            ph        hard         solid  chloramines     sulfate     conduct  \\\n",
       "0     7.085378  204.890455  20791.318981     7.300212  368.516441  564.308654   \n",
       "1     3.716080  129.422921  18630.057858     6.635246  334.564290  592.885359   \n",
       "2     8.099124  224.236259  19909.541732     9.275884  334.564290  418.606213   \n",
       "3     8.316766  214.373394  22018.417441     8.059332  356.886136  363.266516   \n",
       "4     9.092223  181.101509  17978.986339     6.546600  310.135738  398.410813   \n",
       "...        ...         ...           ...          ...         ...         ...   \n",
       "3271  4.668102  193.681735  47580.991603     7.166639  359.948574  526.424171   \n",
       "3272  7.808856  193.553212  17329.802160     8.061362  332.566990  392.449580   \n",
       "3273  9.419510  175.762646  33155.578218     7.350233  332.566990  432.044783   \n",
       "3274  5.126763  230.603758  11983.869376     6.303357  332.566990  402.883113   \n",
       "3275  7.874671  195.102299  17404.177061     7.509306  332.566990  327.459760   \n",
       "\n",
       "         carbon         thm  turbidity  potability  \n",
       "0     10.379783   86.990970   2.963135         0.0  \n",
       "1     15.180013   56.329076   4.500656         0.0  \n",
       "2     16.868637   66.420093   3.055934         0.0  \n",
       "3     18.436524  100.341674   4.628771         0.0  \n",
       "4     11.558279   31.997993   4.075075         0.0  \n",
       "...         ...         ...        ...         ...  \n",
       "3271  13.894419   66.687695   4.435821         1.0  \n",
       "3272  19.903225   66.539684   2.798243         1.0  \n",
       "3273  11.039070   69.845400   3.298875         1.0  \n",
       "3274  11.168946   77.488213   4.708658         1.0  \n",
       "3275  16.140368   78.698446   2.309149         1.0  \n",
       "\n",
       "[3276 rows x 10 columns]"
      ]
     },
     "execution_count": 91,
     "metadata": {},
     "output_type": "execute_result"
    }
   ],
   "source": [
    "df"
   ]
  },
  {
   "cell_type": "code",
   "execution_count": 82,
   "id": "academic-venezuela",
   "metadata": {},
   "outputs": [],
   "source": [
    "import pickle\n",
    "pickle.dump(model_fit, open(\"model_GradientBoostingClassifier.pickle.dat\", \"wb\"))"
   ]
  },
  {
   "cell_type": "code",
   "execution_count": 83,
   "id": "based-syria",
   "metadata": {},
   "outputs": [
    {
     "name": "stdout",
     "output_type": "stream",
     "text": [
      "Accuracy: 79.41%\n"
     ]
    },
    {
     "name": "stderr",
     "output_type": "stream",
     "text": [
      "C:\\Users\\OMEN\\Miniconda3\\lib\\site-packages\\sklearn\\base.py:439: UserWarning: X has feature names, but GradientBoostingClassifier was fitted without feature names\n",
      "  f\"X has feature names, but {self.__class__.__name__} was fitted without\"\n"
     ]
    }
   ],
   "source": [
    "# load model from file\n",
    "loaded_model = pickle.load(open(\"model_GradientBoostingClassifier.pickle.dat\", \"rb\"))\n",
    "# make predictions for test data\n",
    "y_pred = loaded_model.predict(X_test)\n",
    "predictions = [round(value) for value in y_pred]\n",
    "# evaluate predictions\n",
    "accuracy = accuracy_score(y_test, predictions)\n",
    "print(\"Accuracy: %.2f%%\" % (accuracy * 100.0))"
   ]
  },
  {
   "cell_type": "code",
   "execution_count": 84,
   "id": "enormous-jacob",
   "metadata": {},
   "outputs": [],
   "source": [
    "np.savetxt(\"X_test.csv\", X_test, delimiter=\",\")"
   ]
  },
  {
   "cell_type": "code",
   "execution_count": 85,
   "id": "integral-situation",
   "metadata": {},
   "outputs": [],
   "source": [
    "np.savetxt(\"y_test.csv\", y_test, delimiter=\",\")"
   ]
  },
  {
   "cell_type": "code",
   "execution_count": null,
   "id": "empirical-particular",
   "metadata": {},
   "outputs": [],
   "source": []
  }
 ],
 "metadata": {
  "kernelspec": {
   "display_name": "Python 3",
   "language": "python",
   "name": "python3"
  },
  "language_info": {
   "codemirror_mode": {
    "name": "ipython",
    "version": 3
   },
   "file_extension": ".py",
   "mimetype": "text/x-python",
   "name": "python",
   "nbconvert_exporter": "python",
   "pygments_lexer": "ipython3",
   "version": "3.7.4"
  },
  "varInspector": {
   "cols": {
    "lenName": 16,
    "lenType": 16,
    "lenVar": 40
   },
   "kernels_config": {
    "python": {
     "delete_cmd_postfix": "",
     "delete_cmd_prefix": "del ",
     "library": "var_list.py",
     "varRefreshCmd": "print(var_dic_list())"
    },
    "r": {
     "delete_cmd_postfix": ") ",
     "delete_cmd_prefix": "rm(",
     "library": "var_list.r",
     "varRefreshCmd": "cat(var_dic_list()) "
    }
   },
   "types_to_exclude": [
    "module",
    "function",
    "builtin_function_or_method",
    "instance",
    "_Feature"
   ],
   "window_display": false
  }
 },
 "nbformat": 4,
 "nbformat_minor": 5
}
